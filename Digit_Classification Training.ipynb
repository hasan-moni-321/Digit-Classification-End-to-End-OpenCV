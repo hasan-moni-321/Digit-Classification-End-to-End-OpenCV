{
 "cells": [
  {
   "cell_type": "markdown",
   "metadata": {},
   "source": [
    "### Loading necessary library"
   ]
  },
  {
   "cell_type": "code",
   "execution_count": 59,
   "metadata": {},
   "outputs": [],
   "source": [
    "import numpy as np\n",
    "import matplotlib.pyplot as plt\n",
    "import cv2 as cv\n",
    "import os\n",
    "from sklearn.model_selection import train_test_split\n",
    "from keras.preprocessing.image import ImageDataGenerator\n",
    "from  keras.utils.np_utils import to_categorical\n",
    "from keras.models import Sequential\n",
    "from keras.layers import Conv2D, Dense, MaxPooling2D, Dropout, Flatten\n",
    "from keras.optimizers import Adam\n",
    "import pickle\n"
   ]
  },
  {
   "cell_type": "code",
   "execution_count": null,
   "metadata": {},
   "outputs": [],
   "source": []
  },
  {
   "cell_type": "code",
   "execution_count": 44,
   "metadata": {},
   "outputs": [],
   "source": [
    "# Some global variable\n",
    "imageDimensions = (28,28,3)"
   ]
  },
  {
   "cell_type": "markdown",
   "metadata": {},
   "source": [
    "### Reading Dataset"
   ]
  },
  {
   "cell_type": "code",
   "execution_count": 45,
   "metadata": {},
   "outputs": [
    {
     "name": "stdout",
     "output_type": "stream",
     "text": [
      "Total number of classes are : 10\n",
      "Class 0 has read\n",
      "Class 1 has read\n",
      "Class 2 has read\n",
      "Class 3 has read\n",
      "Class 4 has read\n",
      "Class 5 has read\n",
      "Class 6 has read\n",
      "Class 7 has read\n",
      "Class 8 has read\n",
      "Class 9 has read\n",
      "Total number of images are : 42000\n"
     ]
    }
   ],
   "source": [
    "\n",
    "path = '/home/hasan/Downloads/MNIST trainingSet'\n",
    "images = []\n",
    "classNo = []\n",
    "myList = os.listdir(path)\n",
    "print('Total number of classes are :', len(myList))\n",
    "noOfClasses = len(myList)\n",
    "\n",
    "for x in range(10):\n",
    "    myPicList = os.listdir(path+'/'+str(x))\n",
    "    for y in myPicList:\n",
    "        try:\n",
    "            curImg = cv.imread(path+'/'+str(x)+'/'+y)\n",
    "            #curImag = cv.resize(curImg, (imageDimensions[0],imageDimensions[1]))\n",
    "            images.append(curImg)\n",
    "            classNo.append(x)\n",
    "        except Exception as e:\n",
    "            pass\n",
    "    \n",
    "    print('Class {} has read'.format(x))\n",
    "    \n",
    "print('Total number of images are :', len(images))    "
   ]
  },
  {
   "cell_type": "code",
   "execution_count": null,
   "metadata": {},
   "outputs": [],
   "source": []
  },
  {
   "cell_type": "markdown",
   "metadata": {},
   "source": [
    "### Converting to Array"
   ]
  },
  {
   "cell_type": "code",
   "execution_count": 46,
   "metadata": {},
   "outputs": [
    {
     "name": "stdout",
     "output_type": "stream",
     "text": [
      "(42000, 28, 28, 3)\n",
      "(42000,)\n"
     ]
    }
   ],
   "source": [
    "images = np.array(images)\n",
    "classNo = np.array(classNo)\n",
    "\n",
    "print(images.shape)\n",
    "print(classNo.shape)"
   ]
  },
  {
   "cell_type": "code",
   "execution_count": null,
   "metadata": {},
   "outputs": [],
   "source": []
  },
  {
   "cell_type": "markdown",
   "metadata": {},
   "source": [
    "### Splitting Data"
   ]
  },
  {
   "cell_type": "code",
   "execution_count": 47,
   "metadata": {},
   "outputs": [
    {
     "name": "stdout",
     "output_type": "stream",
     "text": [
      "(26880, 28, 28, 3)\n",
      "(8400, 28, 28, 3)\n"
     ]
    }
   ],
   "source": [
    "test_ratio = 0.2\n",
    "validation_ratio = 0.2\n",
    "Xtrain, xtest, Ytrain,ytest = train_test_split(images, classNo, test_size=test_ratio)\n",
    "Xtrain, xvalidation, Ytrain, yvalidation = train_test_split(Xtrain, Ytrain, test_size=validation_ratio)\n",
    "print(Xtrain.shape)\n",
    "print(xtest.shape)"
   ]
  },
  {
   "cell_type": "code",
   "execution_count": null,
   "metadata": {},
   "outputs": [],
   "source": []
  },
  {
   "cell_type": "markdown",
   "metadata": {},
   "source": [
    "### Total number in every class"
   ]
  },
  {
   "cell_type": "code",
   "execution_count": 48,
   "metadata": {},
   "outputs": [
    {
     "name": "stdout",
     "output_type": "stream",
     "text": [
      "Total number in every class are : [2633, 2966, 2684, 2782, 2588, 2445, 2696, 2797, 2616, 2673]\n"
     ]
    }
   ],
   "source": [
    "numOfSamples = []\n",
    "for x in range(noOfClasses):\n",
    "    #print(len(np.where(Ytrain==x)[0]))\n",
    "    numOfSamples.append(len(np.where(Ytrain==x)[0]))\n",
    "    \n",
    "print(\"Total number in every class are :\", numOfSamples)"
   ]
  },
  {
   "cell_type": "code",
   "execution_count": 49,
   "metadata": {},
   "outputs": [
    {
     "data": {
      "image/png": "[encoded data removed]",
      "text/plain": [
       "<Figure size 720x360 with 1 Axes>"
      ]
     },
     "metadata": {
      "needs_background": "light"
     },
     "output_type": "display_data"
    }
   ],
   "source": [
    "plt.figure(figsize=(10,5))\n",
    "\n",
    "plt.bar(range(0, noOfClasses), numOfSamples)\n",
    "plt.title(\"No of images for each class\")\n",
    "plt.xlabel(\"Class ID\")\n",
    "plt.ylabel(\"Number of images\")\n",
    "plt.show()"
   ]
  },
  {
   "cell_type": "code",
   "execution_count": null,
   "metadata": {},
   "outputs": [],
   "source": []
  },
  {
   "cell_type": "markdown",
   "metadata": {},
   "source": [
    "### Preprocess Image"
   ]
  },
  {
   "cell_type": "code",
   "execution_count": 50,
   "metadata": {},
   "outputs": [],
   "source": [
    "def preProcessing(img):\n",
    "    img = cv.cvtColor(img, cv.COLOR_BGR2GRAY)\n",
    "    img = cv.equalizeHist(img)\n",
    "    img = img/255\n",
    "    return img\n",
    "\n",
    "\n",
    "Xtrain = np.array(list(map(preProcessing, Xtrain)))\n",
    "xtest = np.array(list(map(preProcessing, xtest)))\n",
    "xvalidation = np.array(list(map(preProcessing, xvalidation)))\n"
   ]
  },
  {
   "cell_type": "code",
   "execution_count": 51,
   "metadata": {},
   "outputs": [
    {
     "data": {
      "text/plain": [
       "(6720, 28, 28)"
      ]
     },
     "execution_count": 51,
     "metadata": {},
     "output_type": "execute_result"
    }
   ],
   "source": [
    "xvalidation.shape"
   ]
  },
  {
   "cell_type": "markdown",
   "metadata": {},
   "source": [
    "### Reshaping Images Again"
   ]
  },
  {
   "cell_type": "code",
   "execution_count": 52,
   "metadata": {},
   "outputs": [
    {
     "name": "stdout",
     "output_type": "stream",
     "text": [
      "(26880, 28, 28, 1)\n",
      "(8400, 28, 28, 1)\n",
      "(6720, 28, 28, 1)\n"
     ]
    }
   ],
   "source": [
    "Xtrain = Xtrain.reshape(Xtrain.shape[0], Xtrain.shape[1], Xtrain.shape[2],1)\n",
    "xtest = xtest.reshape(xtest.shape[0], xtest.shape[1], xtest.shape[2],1)\n",
    "xvalidation = xvalidation.reshape(xvalidation.shape[0], xvalidation.shape[1], xvalidation.shape[2],1)\n",
    "\n",
    "print(Xtrain.shape)\n",
    "print(xtest.shape)\n",
    "print(xvalidation.shape)"
   ]
  },
  {
   "cell_type": "code",
   "execution_count": null,
   "metadata": {},
   "outputs": [],
   "source": []
  },
  {
   "cell_type": "markdown",
   "metadata": {},
   "source": [
    "### Data Generator"
   ]
  },
  {
   "cell_type": "code",
   "execution_count": 53,
   "metadata": {},
   "outputs": [],
   "source": [
    "data_gen = ImageDataGenerator(width_shift_range=0.1,\n",
    "                              height_shift_range=0.1,\n",
    "                              zoom_range=0.2,\n",
    "                              shear_range=0.1,\n",
    "                              rotation_range=10)\n",
    "\n",
    "data_gen.fit(Xtrain)"
   ]
  },
  {
   "cell_type": "code",
   "execution_count": null,
   "metadata": {},
   "outputs": [],
   "source": []
  },
  {
   "cell_type": "markdown",
   "metadata": {},
   "source": [
    "### Data Categorical"
   ]
  },
  {
   "cell_type": "code",
   "execution_count": 54,
   "metadata": {},
   "outputs": [],
   "source": [
    "Ytrain = to_categorical(Ytrain, noOfClasses)\n",
    "ytest = to_categorical(ytest, noOfClasses)\n",
    "yvalidation = to_categorical(yvalidation, noOfClasses)\n"
   ]
  },
  {
   "cell_type": "code",
   "execution_count": 55,
   "metadata": {},
   "outputs": [
    {
     "data": {
      "text/plain": [
       "(6720, 10)"
      ]
     },
     "execution_count": 55,
     "metadata": {},
     "output_type": "execute_result"
    }
   ],
   "source": [
    "yvalidation.shape"
   ]
  },
  {
   "cell_type": "markdown",
   "metadata": {},
   "source": [
    "### Neural Model"
   ]
  },
  {
   "cell_type": "code",
   "execution_count": 56,
   "metadata": {},
   "outputs": [],
   "source": [
    "def my_model():\n",
    "    noOfFilter = 60\n",
    "    sizeOfFilter = (5,5)\n",
    "    sizeOfFilter2 = (3,3)\n",
    "    sizeOfPool = (2,2)\n",
    "    noOfNode = 500\n",
    "    \n",
    "    model = Sequential()\n",
    "    model.add((Conv2D(noOfFilter, sizeOfFilter, input_shape=(imageDimensions[0],\n",
    "                                                             imageDimensions[1],\n",
    "                                                             1), activation='relu')))\n",
    "    \n",
    "    model.add((Conv2D(noOfFilter, sizeOfFilter, activation='relu')))\n",
    "    model.add(MaxPooling2D(pool_size=sizeOfPool))\n",
    "    model.add((Conv2D(noOfFilter//2, sizeOfFilter2, activation='relu')))\n",
    "    model.add((Conv2D(noOfFilter//2, sizeOfFilter2, activation='relu')))\n",
    "    model.add(MaxPooling2D(pool_size=sizeOfPool))\n",
    "    model.add(Dropout(0.5))\n",
    "    \n",
    "    model.add(Flatten())\n",
    "    model.add(Dense(noOfNode, activation='relu'))\n",
    "    model.add(Dropout(0.5))\n",
    "    model.add(Dense(noOfClasses, activation='softmax'))\n",
    "    \n",
    "    model.compile(Adam(lr=0.001), \n",
    "                  loss='categorical_crossentropy', \n",
    "                  metrics=['accuracy'])\n",
    "    \n",
    "    return model\n",
    "   "
   ]
  },
  {
   "cell_type": "code",
   "execution_count": 57,
   "metadata": {},
   "outputs": [
    {
     "name": "stdout",
     "output_type": "stream",
     "text": [
      "Model: \"sequential_8\"\n",
      "_________________________________________________________________\n",
      "Layer (type)                 Output Shape              Param #   \n",
      "=================================================================\n",
      "conv2d_19 (Conv2D)           (None, 24, 24, 60)        1560      \n",
      "_________________________________________________________________\n",
      "conv2d_20 (Conv2D)           (None, 20, 20, 60)        90060     \n",
      "_________________________________________________________________\n",
      "max_pooling2d_9 (MaxPooling2 (None, 10, 10, 60)        0         \n",
      "_________________________________________________________________\n",
      "conv2d_21 (Conv2D)           (None, 8, 8, 30)          16230     \n",
      "_________________________________________________________________\n",
      "conv2d_22 (Conv2D)           (None, 6, 6, 30)          8130      \n",
      "_________________________________________________________________\n",
      "max_pooling2d_10 (MaxPooling (None, 3, 3, 30)          0         \n",
      "_________________________________________________________________\n",
      "dropout_8 (Dropout)          (None, 3, 3, 30)          0         \n",
      "_________________________________________________________________\n",
      "flatten_4 (Flatten)          (None, 270)               0         \n",
      "_________________________________________________________________\n",
      "dense_7 (Dense)              (None, 500)               135500    \n",
      "_________________________________________________________________\n",
      "dropout_9 (Dropout)          (None, 500)               0         \n",
      "_________________________________________________________________\n",
      "dense_8 (Dense)              (None, 10)                5010      \n",
      "=================================================================\n",
      "Total params: 256,490\n",
      "Trainable params: 256,490\n",
      "Non-trainable params: 0\n",
      "_________________________________________________________________\n",
      "None\n"
     ]
    }
   ],
   "source": [
    "model = my_model()\n",
    "print(model.summary())"
   ]
  },
  {
   "cell_type": "code",
   "execution_count": 58,
   "metadata": {},
   "outputs": [
    {
     "name": "stdout",
     "output_type": "stream",
     "text": [
      "Epoch 1/10\n",
      "2000/2000 [==============================] - 548s 274ms/step - loss: 0.4131 - accuracy: 0.8660 - val_loss: 0.0875 - val_accuracy: 0.9754\n",
      "Epoch 2/10\n",
      "2000/2000 [==============================] - 541s 270ms/step - loss: 0.1445 - accuracy: 0.9565 - val_loss: 0.0536 - val_accuracy: 0.9821\n",
      "Epoch 3/10\n",
      "2000/2000 [==============================] - 559s 279ms/step - loss: 0.1100 - accuracy: 0.9669 - val_loss: 0.0376 - val_accuracy: 0.9890\n",
      "Epoch 4/10\n",
      "2000/2000 [==============================] - 549s 275ms/step - loss: 0.0920 - accuracy: 0.9730 - val_loss: 0.0421 - val_accuracy: 0.9876\n",
      "Epoch 5/10\n",
      "2000/2000 [==============================] - 522s 261ms/step - loss: 0.0844 - accuracy: 0.9756 - val_loss: 0.0398 - val_accuracy: 0.9893\n",
      "Epoch 6/10\n",
      "2000/2000 [==============================] - 483s 242ms/step - loss: 0.0751 - accuracy: 0.9780 - val_loss: 0.0327 - val_accuracy: 0.9915\n",
      "Epoch 7/10\n",
      "2000/2000 [==============================] - 476s 238ms/step - loss: 0.0662 - accuracy: 0.9805 - val_loss: 0.0460 - val_accuracy: 0.9900\n",
      "Epoch 8/10\n",
      "2000/2000 [==============================] - 472s 236ms/step - loss: 0.0638 - accuracy: 0.9810 - val_loss: 0.0314 - val_accuracy: 0.9918\n",
      "Epoch 9/10\n",
      "2000/2000 [==============================] - 591s 296ms/step - loss: 0.0636 - accuracy: 0.9814 - val_loss: 0.0345 - val_accuracy: 0.9911\n",
      "Epoch 10/10\n",
      "2000/2000 [==============================] - 583s 291ms/step - loss: 0.0589 - accuracy: 0.9827 - val_loss: 0.0378 - val_accuracy: 0.9900\n"
     ]
    }
   ],
   "source": [
    "# training the model\n",
    "model_history = model.fit_generator(data_gen.flow(Xtrain, Ytrain,\n",
    "                                  batch_size=50),\n",
    "                                  steps_per_epoch=2000,\n",
    "                                  epochs=10,\n",
    "                                  validation_data=(xvalidation, yvalidation),\n",
    "                                  shuffle=1)"
   ]
  },
  {
   "cell_type": "code",
   "execution_count": 60,
   "metadata": {},
   "outputs": [
    {
     "data": {
      "image/png": "[encoded data removed]",
      "text/plain": [
       "<Figure size 432x288 with 1 Axes>"
      ]
     },
     "metadata": {
      "needs_background": "light"
     },
     "output_type": "display_data"
    },
    {
     "data": {
      "image/png": "[encoded data removed]",
      "text/plain": [
       "<Figure size 432x288 with 1 Axes>"
      ]
     },
     "metadata": {
      "needs_background": "light"
     },
     "output_type": "display_data"
    }
   ],
   "source": [
    "# Accuracy and Loss in graph\n",
    "accuracy = model_history.history['accuracy']\n",
    "val_accuracy = model_history.history['val_accuracy']\n",
    "\n",
    "loss = model_history.history['loss']\n",
    "val_loss = model_history.history['val_loss']\n",
    "\n",
    "epochs = range(len(accuracy))\n",
    "plt.plot(epochs, accuracy, 'go', label='Training accuracy')\n",
    "plt.plot(epochs, val_accuracy, 'g', label='Validation accuracy')\n",
    "plt.title('Training and validation accuracy')\n",
    "plt.legend()\n",
    "plt.figure()\n",
    "plt.plot(epochs, loss, 'go', label='Training loss')\n",
    "plt.plot(epochs, val_loss, 'r', label='validation loss')\n",
    "plt.title('training and validation loss')\n",
    "plt.legend()\n",
    "plt.show()"
   ]
  },
  {
   "cell_type": "code",
   "execution_count": null,
   "metadata": {},
   "outputs": [],
   "source": []
  },
  {
   "cell_type": "markdown",
   "metadata": {},
   "source": [
    "### Evaluate Model"
   ]
  },
  {
   "cell_type": "code",
   "execution_count": 61,
   "metadata": {},
   "outputs": [
    {
     "name": "stdout",
     "output_type": "stream",
     "text": [
      "Test score =  0.045695306319317924\n",
      "Test Accuracy =  0.9879761934280396\n"
     ]
    }
   ],
   "source": [
    "score = model.evaluate(xtest, ytest, verbose=0)\n",
    "print('Test score = ', score[0])\n",
    "print('Test Accuracy = ', score[1])\n"
   ]
  },
  {
   "cell_type": "code",
   "execution_count": null,
   "metadata": {},
   "outputs": [],
   "source": []
  },
  {
   "cell_type": "markdown",
   "metadata": {},
   "source": [
    "### Save model"
   ]
  },
  {
   "cell_type": "code",
   "execution_count": 62,
   "metadata": {},
   "outputs": [],
   "source": [
    "pickle_out = open(\"digit_classification_model.p\", 'wb')\n",
    "pickle.dump(model, pickle_out)\n",
    "pickle_out.close()\n"
   ]
  },
  {
   "cell_type": "code",
   "execution_count": null,
   "metadata": {},
   "outputs": [],
   "source": []
  }
 ],
 "metadata": {
  "kernelspec": {
   "display_name": "Python 3",
   "language": "python",
   "name": "python3"
  },
  "language_info": {
   "codemirror_mode": {
    "name": "ipython",
    "version": 3
   },
   "file_extension": ".py",
   "mimetype": "text/x-python",
   "name": "python",
   "nbconvert_exporter": "python",
   "pygments_lexer": "ipython3",
   "version": "3.7.4"
  }
 },
 "nbformat": 4,
 "nbformat_minor": 2
}
